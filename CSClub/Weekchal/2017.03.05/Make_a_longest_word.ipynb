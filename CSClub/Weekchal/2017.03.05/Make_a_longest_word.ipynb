{
 "cells": [
  {
   "cell_type": "code",
   "execution_count": 13,
   "metadata": {
    "collapsed": false
   },
   "outputs": [
    {
     "name": "stdout",
     "output_type": "stream",
     "text": [
      "Enter your string:\n",
      "SNTNOEU EONTU \n",
      "tenuous\n"
     ]
    }
   ],
   "source": [
    "d = set(word.strip() for word in open('en_dict.txt'))\n",
    "d = sorted(d, key=len, reverse=True)\n",
    "\n",
    "b = input(\"Enter your string:\\n\")\n",
    "b = b.lower()\n",
    "b = b.replace(\" \", \"\")\n",
    "\n",
    "for i in d:\n",
    "    if len(i) > len(b):\n",
    "        continue\n",
    "    else:\n",
    "        b_check = b\n",
    "        for l_i in i:\n",
    "            for l_b in b_check:\n",
    "                n = 0\n",
    "                if l_i == l_b:\n",
    "                    b_check = b_check.replace(l_b, \"\", 1)\n",
    "                    n += 1\n",
    "                    break\n",
    "            if n == 0:\n",
    "                break\n",
    "            else:\n",
    "                continue\n",
    "\n",
    "        if len(b) - len(i) == len(b_check):\n",
    "            print (i)\n",
    "            break\n"
   ]
  }
 ],
 "metadata": {
  "kernelspec": {
   "display_name": "Python 3",
   "language": "python",
   "name": "python3"
  },
  "language_info": {
   "codemirror_mode": {
    "name": "ipython",
    "version": 3
   },
   "file_extension": ".py",
   "mimetype": "text/x-python",
   "name": "python",
   "nbconvert_exporter": "python",
   "pygments_lexer": "ipython3",
   "version": "3.6.0"
  }
 },
 "nbformat": 4,
 "nbformat_minor": 2
}
