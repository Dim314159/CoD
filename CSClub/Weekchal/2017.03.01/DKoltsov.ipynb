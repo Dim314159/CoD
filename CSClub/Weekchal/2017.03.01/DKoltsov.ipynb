{
 "cells": [
  {
   "cell_type": "code",
   "execution_count": 9,
   "metadata": {
    "collapsed": false
   },
   "outputs": [
    {
     "name": "stdout",
     "output_type": "stream",
     "text": [
      "25164150\n"
     ]
    }
   ],
   "source": [
    "sum_sq = 0\n",
    "sq_sum = 0\n",
    "\n",
    "for i in range(1, 101):\n",
    "\tsum_sq += i ** 2\n",
    " \n",
    "for i in range(1, 101):\n",
    "\tsq_sum += i\n",
    " \n",
    "sq_sum = sq_sum **2\n",
    " \n",
    "result = abs(sum_sq - sq_sum)\n",
    " \n",
    "print (result)"
   ]
  },
  {
   "cell_type": "code",
   "execution_count": null,
   "metadata": {
    "collapsed": false
   },
   "outputs": [],
   "source": [
    "\n",
    "count1 = 0\n",
    "count2 = 0\n",
    "total = 0\n",
    "\n",
    "for n in range(1, 9999999):\n",
    "    for i in range(1, n + 2):\n",
    "        if (n + 1) % i == 0:\n",
    "            count1 += 1\n",
    "    for i in range(1, n + 1):\n",
    "        if n % i == 0:\n",
    "            count2 += 1\n",
    "    if count1 == count2:\n",
    "        total += 1\n",
    "\n",
    "print (total)"
   ]
  },
  {
   "cell_type": "code",
   "execution_count": null,
   "metadata": {
    "collapsed": true
   },
   "outputs": [],
   "source": []
  }
 ],
 "metadata": {
  "kernelspec": {
   "display_name": "Python 3",
   "language": "python",
   "name": "python3"
  }
 },
 "nbformat": 4,
 "nbformat_minor": 2
}
